{
 "cells": [
  {
   "cell_type": "code",
   "execution_count": 41,
   "id": "60504c39",
   "metadata": {},
   "outputs": [
    {
     "name": "stdout",
     "output_type": "stream",
     "text": [
      "successfull\n"
     ]
    }
   ],
   "source": [
    "import os\n",
    "from itertools import islice\n",
    "import numpy as np\n",
    "pi=3.14\n",
    "DATA_FOLD='C:\\Autopilot-TensorFlow-master\\Autopilot-TensorFlow-master\\driving_dataset\\driving_dataset'\n",
    "TRAIN_FILE=os.path.join(DATA_FOLD,'data.txt')\n",
    "LIMIT=None\n",
    "\n",
    "split=0.8\n",
    "x=[]\n",
    "y=[]\n",
    "\n",
    "with open(TRAIN_FILE) as fp:\n",
    "    for line in islice(fp, LIMIT):\n",
    "       path, angle= line.strip().split()\n",
    "       full_path= os.path.join(DATA_FOLD, path)\n",
    "       x.append(full_path)\n",
    "    \n",
    "       y.append(float(angle)*pi/180)\n",
    "    \n",
    "y= np.array(y)\n",
    "print(\"successfull\")"
   ]
  },
  {
   "cell_type": "code",
   "execution_count": 42,
   "id": "f89353b4",
   "metadata": {},
   "outputs": [
    {
     "data": {
      "text/plain": [
       "array([0.        , 0.        , 0.        , ..., 0.03872667, 0.03872667,\n",
       "       0.        ])"
      ]
     },
     "execution_count": 42,
     "metadata": {},
     "output_type": "execute_result"
    }
   ],
   "source": [
    "y"
   ]
  },
  {
   "cell_type": "code",
   "execution_count": 43,
   "id": "a0c1c1a2",
   "metadata": {},
   "outputs": [
    {
     "data": {
      "text/plain": [
       "45406"
      ]
     },
     "execution_count": 43,
     "metadata": {},
     "output_type": "execute_result"
    }
   ],
   "source": [
    "len(y)"
   ]
  },
  {
   "cell_type": "code",
   "execution_count": 44,
   "id": "91dc1b97",
   "metadata": {},
   "outputs": [],
   "source": [
    "split_index=int(len(y)*split)\n"
   ]
  },
  {
   "cell_type": "code",
   "execution_count": 45,
   "id": "9efe4bd4",
   "metadata": {},
   "outputs": [],
   "source": [
    "train_y= y[:split_index]"
   ]
  },
  {
   "cell_type": "code",
   "execution_count": 46,
   "id": "58190093",
   "metadata": {},
   "outputs": [],
   "source": [
    "test_y=y[split_index:]"
   ]
  },
  {
   "cell_type": "code",
   "execution_count": 47,
   "id": "44bc89c3",
   "metadata": {},
   "outputs": [
    {
     "data": {
      "text/plain": [
       "(array([  26.,   12.,   23.,   23.,   16.,   25.,    7.,    4.,    7.,\n",
       "           3.,    3.,    5.,    4.,    4.,    4.,    5.,    5.,   17.,\n",
       "          18.,   21.,   67.,   41.,   17.,   19.,   15.,   15.,   16.,\n",
       "          24.,   25.,  152.,  280.,  126.,  325.,  759., 2609.,  944.,\n",
       "        1806.,  727.,  245.,  258.,  132.,   30.,   20.,   53.,   75.,\n",
       "          46.,    6.,    4.,    5.,    9.]),\n",
       " array([-2.78989   , -2.70848027, -2.62707053, -2.5456608 , -2.46425107,\n",
       "        -2.38284133, -2.3014316 , -2.22002187, -2.13861213, -2.0572024 ,\n",
       "        -1.97579267, -1.89438293, -1.8129732 , -1.73156347, -1.65015373,\n",
       "        -1.568744  , -1.48733427, -1.40592453, -1.3245148 , -1.24310507,\n",
       "        -1.16169533, -1.0802856 , -0.99887587, -0.91746613, -0.8360564 ,\n",
       "        -0.75464667, -0.67323693, -0.5918272 , -0.51041747, -0.42900773,\n",
       "        -0.347598  , -0.26618827, -0.18477853, -0.1033688 , -0.02195907,\n",
       "         0.05945067,  0.1408604 ,  0.22227013,  0.30367987,  0.3850896 ,\n",
       "         0.46649933,  0.54790907,  0.6293188 ,  0.71072853,  0.79213827,\n",
       "         0.873548  ,  0.95495773,  1.03636747,  1.1177772 ,  1.19918693,\n",
       "         1.28059667]),\n",
       " [<matplotlib.patches.Polygon at 0x2b6fabf15a0>])"
      ]
     },
     "execution_count": 47,
     "metadata": {},
     "output_type": "execute_result"
    },
    {
     "data": {
      "image/png": "[encoded data removed]",
      "text/plain": [
       "<Figure size 432x288 with 1 Axes>"
      ]
     },
     "metadata": {
      "needs_background": "light"
     },
     "output_type": "display_data"
    }
   ],
   "source": [
    "import matplotlib.pyplot as plt\n",
    "plt.hist(train_y, bins= 50, color= \"blue\", histtype= 'step')\n",
    "\n",
    "plt.hist(test_y, bins= 50, color= \"green\", histtype= 'step')"
   ]
  },
  {
   "cell_type": "code",
   "execution_count": 48,
   "id": "dc0116f3",
   "metadata": {},
   "outputs": [],
   "source": [
    "#regression problem\n",
    "\n",
    "train_mean_y=np.mean(train_y)"
   ]
  },
  {
   "cell_type": "code",
   "execution_count": 49,
   "id": "8519c0a6",
   "metadata": {},
   "outputs": [
    {
     "data": {
      "text/plain": [
       "0.0345813347465404"
      ]
     },
     "execution_count": 49,
     "metadata": {},
     "output_type": "execute_result"
    }
   ],
   "source": [
    "train_mean_y"
   ]
  },
  {
   "cell_type": "code",
   "execution_count": 50,
   "id": "f904e040",
   "metadata": {},
   "outputs": [
    {
     "data": {
      "text/plain": [
       "0.19093313645608298"
      ]
     },
     "execution_count": 50,
     "metadata": {},
     "output_type": "execute_result"
    }
   ],
   "source": [
    "np.mean(np.square(test_y - train_mean_y ))"
   ]
  },
  {
   "cell_type": "code",
   "execution_count": 51,
   "id": "016548cc",
   "metadata": {},
   "outputs": [
    {
     "data": {
      "text/plain": [
       "0.19069754530238808"
      ]
     },
     "execution_count": 51,
     "metadata": {},
     "output_type": "execute_result"
    }
   ],
   "source": [
    "np.mean(np.square(test_y ))"
   ]
  },
  {
   "cell_type": "code",
   "execution_count": 52,
   "id": "7e4603a4",
   "metadata": {},
   "outputs": [
    {
     "data": {
      "text/plain": [
       "0.19069754530238808"
      ]
     },
     "execution_count": 52,
     "metadata": {},
     "output_type": "execute_result"
    }
   ],
   "source": [
    "#baseline model\n",
    "np.mean(np.square(test_y - 0.0 ))"
   ]
  },
  {
   "cell_type": "code",
   "execution_count": null,
   "id": "30c6556b",
   "metadata": {},
   "outputs": [],
   "source": []
  }
 ],
 "metadata": {
  "kernelspec": {
   "display_name": "Python 3 (ipykernel)",
   "language": "python",
   "name": "python3"
  },
  "language_info": {
   "codemirror_mode": {
    "name": "ipython",
    "version": 3
   },
   "file_extension": ".py",
   "mimetype": "text/x-python",
   "name": "python",
   "nbconvert_exporter": "python",
   "pygments_lexer": "ipython3",
   "version": "3.10.4"
  }
 },
 "nbformat": 4,
 "nbformat_minor": 5
}
